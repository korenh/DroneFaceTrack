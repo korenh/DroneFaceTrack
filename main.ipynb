{
 "cells": [
  {
   "cell_type": "markdown",
   "id": "824ab38b-ddcb-470f-96a7-965c009f09e2",
   "metadata": {},
   "source": [
    "### Imports"
   ]
  },
  {
   "cell_type": "code",
   "execution_count": null,
   "id": "6b47d45c-363f-4fc4-9619-04cc66176009",
   "metadata": {},
   "outputs": [],
   "source": [
    "import cv2\n",
    "from io import BytesIO\n",
    "from djitellopy import Tello\n",
    "import matplotlib.pyplot as plt\n",
    "from IPython.display import display, clear_output, Image"
   ]
  },
  {
   "cell_type": "markdown",
   "id": "3679dece-6b6a-477f-aa28-7201af95d2a0",
   "metadata": {},
   "source": [
    "### Stream Display "
   ]
  },
  {
   "cell_type": "code",
   "execution_count": null,
   "id": "6955f72a-31e3-4f4d-ac48-0b8ded27148c",
   "metadata": {},
   "outputs": [],
   "source": [
    "def stream_display(frame):\n",
    "    plt.figure(figsize=(15, 15))\n",
    "    plt.imshow(frame)\n",
    "    f = BytesIO()\n",
    "    plt.savefig(f, format='jpeg'), plt.close()\n",
    "    display(Image(data=f.getvalue()))\n",
    "    clear_output(wait=True)"
   ]
  },
  {
   "cell_type": "markdown",
   "id": "99e2c518-9f1c-494e-bc60-398fe26e678f",
   "metadata": {},
   "source": [
    "### Detection"
   ]
  },
  {
   "cell_type": "code",
   "execution_count": null,
   "id": "91c12071-f324-4ca2-b1b1-857fda2e43d1",
   "metadata": {},
   "outputs": [],
   "source": [
    "face_cascade = cv2.CascadeClassifier('./resource/haarcascade_frontalface_default.xml')\n",
    "def detect(frame) -> list:\n",
    "    return face_cascade.detectMultiScale(frame, 1.3, minNeighbors=5)"
   ]
  },
  {
   "cell_type": "markdown",
   "id": "b95379af-0496-40b8-8148-6772c5b3b504",
   "metadata": {},
   "source": [
    "### Distance"
   ]
  },
  {
   "cell_type": "code",
   "execution_count": null,
   "id": "84da9af3-92f5-474a-85b9-9a22d9d607c4",
   "metadata": {},
   "outputs": [],
   "source": [
    "def focal_distance(measured_distance: float, real_width: float, width_in_rf: float):\n",
    "    return (measured_distance * width_in_rf) / real_width\n",
    "\n",
    "\n",
    "def distance_finder(focal_length : float, real_object_width: float, width_in_frmae: float):\n",
    "    return (focal_length * real_object_width) / width_in_frmae\n",
    "\n",
    "\n",
    "def distance(detect: dict):\n",
    "    return round(distance_finder(focal_face, width_face, detect), 1)\n",
    "    \n",
    "distance_known = 0.889\n",
    "width_face = 0.127\n",
    "data_face = detect(cv2.imread('./resource/sample.png'))\n",
    "focal_face = focal_distance(distance_known, width_face , data_face[0][2])"
   ]
  },
  {
   "cell_type": "markdown",
   "id": "aa1fab4b-7251-4491-bb82-10ae3a9d05d3",
   "metadata": {},
   "source": [
    "### Movement"
   ]
  },
  {
   "cell_type": "code",
   "execution_count": null,
   "id": "f69aeca4-e430-4aa8-b04e-cc0f8dc50b94",
   "metadata": {},
   "outputs": [],
   "source": [
    "def movement(x: int, y: int, z: int):\n",
    "\n",
    "    if not -90 <= x <= 90 and x != 0:\n",
    "        drone.rotate_counter_clockwise(int(15)) if x < 0 else drone.rotate_clockwise(int(15)) if x > 0 else None\n",
    "    \n",
    "    if not -70 <= y <= 70 and y != -30:\n",
    "        drone.move_up(int(30)) if y < 0 else drone.move_down(int(30)) if y > 0 else None\n",
    "    \n",
    "    if not 15000 <= z <= 30000 and z != 0:\n",
    "        drone.move_forward(int(100)) if z < 15000 else drone.move_back(int(100)) if z > 30000 else None"
   ]
  },
  {
   "cell_type": "markdown",
   "id": "c385058f-a305-4955-9898-4ee85d415131",
   "metadata": {},
   "source": [
    "### Main"
   ]
  },
  {
   "cell_type": "code",
   "execution_count": null,
   "id": "0894e3c1-a562-4e99-99cb-9429a0914cf8",
   "metadata": {},
   "outputs": [],
   "source": [
    "drone = Tello()\n",
    "drone.connect()\n",
    "print('Battery {}%'.format(drone.get_battery()))\n",
    "drone.streamon()\n",
    "drone.takeoff()\n",
    "\n",
    "stream = drone.get_frame_read()\n",
    "frame_h, frame_w = 720, 960\n",
    "\n",
    "while True:\n",
    "    frame = cv2.cvtColor(stream.frame, cv2.COLOR_BGR2RGB)    \n",
    "    center_x, center_y, area_z = int(frame_w/2),  int(frame_h/2), 0    \n",
    "    detections = detect(frame)\n",
    "\n",
    "    for d in detections:\n",
    "        (x, y, w, h) = d\n",
    "        dis = distance(w)\n",
    "        cv2.rectangle(frame,(x, y),(x + w, y + h),(0, 0, 0), 2)\n",
    "        cv2.putText(frame, str(dis), (d[0], d[1]- 20), cv2.FONT_HERSHEY_COMPLEX, .7, (0, 0, 0), 2)\n",
    "        center_x, center_y, area_z = x + int(h/2),  y + int(w/2), w * h\n",
    "        \n",
    "    \n",
    "    offset_x = center_x - int(frame_w/2)\n",
    "    offset_y = center_y - int(frame_h/2) - 30\n",
    "    \n",
    "    movement(offset_x, offset_y, area_z)\n",
    "    stream_display(frame)\n",
    "\n",
    "drone.land()"
   ]
  }
 ],
 "metadata": {
  "kernelspec": {
   "display_name": "Python 3 (ipykernel)",
   "language": "python",
   "name": "python3"
  },
  "language_info": {
   "codemirror_mode": {
    "name": "ipython",
    "version": 3
   },
   "file_extension": ".py",
   "mimetype": "text/x-python",
   "name": "python",
   "nbconvert_exporter": "python",
   "pygments_lexer": "ipython3",
   "version": "3.9.7"
  }
 },
 "nbformat": 4,
 "nbformat_minor": 5
}
